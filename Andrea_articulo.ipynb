{
  "nbformat": 4,
  "nbformat_minor": 0,
  "metadata": {
    "colab": {
      "provenance": [],
      "include_colab_link": true
    },
    "kernelspec": {
      "name": "python3",
      "display_name": "Python 3"
    },
    "language_info": {
      "name": "python"
    }
  },
  "cells": [
    {
      "cell_type": "markdown",
      "metadata": {
        "id": "view-in-github",
        "colab_type": "text"
      },
      "source": [
        "<a href=\"https://colab.research.google.com/github/ANDY-BLIG/C-digo-Arduino-y-Graficas/blob/main/Andrea_articulo.ipynb\" target=\"_parent\"><img src=\"https://colab.research.google.com/assets/colab-badge.svg\" alt=\"Open In Colab\"/></a>"
      ]
    },
    {
      "cell_type": "code",
      "execution_count": null,
      "metadata": {
        "colab": {
          "base_uri": "https://localhost:8080/"
        },
        "id": "_qogQtRopQIF",
        "outputId": "c3027fa1-b323-458d-b27c-0b61e6d61243"
      },
      "outputs": [
        {
          "output_type": "stream",
          "name": "stdout",
          "text": [
            "1.2015\n"
          ]
        }
      ],
      "source": [
        "Vco2 = 0.3888\n",
        "VN2 = 0.7774\n",
        "VH2O = 0.0333\n",
        "VSO2 = 0.002\n",
        "Vgt = (Vco2 + VN2 + VH2O + VSO2)\n",
        "print(Vgt)\n",
        "#1.2015 m3\n"
      ]
    },
    {
      "cell_type": "code",
      "source": [
        "Vco2 = 0.3009\n",
        "VN2 = 0.3411\n",
        "VH2O = 0.1033\n",
        "VSO2 = 0.001\n",
        "alpha = 1.01\n",
        "\n",
        "Vgt = (Vco2 + VN2 + VH2O + VSO2)*(alpha -1)\n",
        "print(Vgt)"
      ],
      "metadata": {
        "colab": {
          "base_uri": "https://localhost:8080/"
        },
        "id": "WzridNTaP63l",
        "outputId": "4afd5d06-3880-4b91-d3a4-e0a903824c69"
      },
      "execution_count": null,
      "outputs": [
        {
          "output_type": "stream",
          "name": "stdout",
          "text": [
            "0.007463000000000007\n"
          ]
        }
      ]
    },
    {
      "cell_type": "code",
      "source": [
        "#Vco2 = 0.3009\n",
        "#VN2 = 0.3411\n",
        "#VSO2 = 0.001\n",
        "#alpha = 1.01\n",
        "H2S= 7.2\n",
        "Cm =12.01\n",
        "Hm = 1.00784\n",
        "VA= 1.01\n",
        "H2= 2.0\n",
        "n= 0.5\n",
        "H2O = 0.1033\n",
        "VH2O =0.01(H2S+H2 +(\\sum_{.5}^{0}(CmHm)+H2O)+0.016VA\n",
        "print(VH2O)\n",
        "\n",
        "Vgt = (Vco2 + VN2 + VH2O + VSO2)*(alpha -1)\n",
        "print(Vgt)\n",
        "\n",
        "\n",
        "  Vaire= 3.92\n",
        "\n",
        "\n",
        "\n",
        "           Vgt = (Vco2 + VN2 + VH2O + VSO2)"
      ],
      "metadata": {
        "colab": {
          "base_uri": "https://localhost:8080/",
          "height": 106
        },
        "id": "-UKigQympVTq",
        "outputId": "1c784b30-67d0-4e66-c71c-ee53dc8e7845"
      },
      "execution_count": null,
      "outputs": [
        {
          "output_type": "error",
          "ename": "SyntaxError",
          "evalue": "unexpected character after line continuation character (<ipython-input-6-6aaa1c19f2d3>, line 12)",
          "traceback": [
            "\u001b[0;36m  File \u001b[0;32m\"<ipython-input-6-6aaa1c19f2d3>\"\u001b[0;36m, line \u001b[0;32m12\u001b[0m\n\u001b[0;31m    VH2O =0.01(H2S+H2 +(\\sum_{.5}^{0}(CmHm)+H2O)+0.016VA\u001b[0m\n\u001b[0m                         ^\u001b[0m\n\u001b[0;31mSyntaxError\u001b[0m\u001b[0;31m:\u001b[0m unexpected character after line continuation character\n"
          ]
        }
      ]
    },
    {
      "cell_type": "code",
      "source": [
        "VCo2 = (Vaire + cm + (alpha-1))\n",
        "Vaire= 0.074\n",
        "Cm=0.237\n",
        "alpha = 0.9\n"
      ],
      "metadata": {
        "colab": {
          "base_uri": "https://localhost:8080/",
          "height": 193
        },
        "id": "LfKiioR4o7yH",
        "outputId": "75e4dc3a-be96-4fd1-a90c-b7b17b772e06"
      },
      "execution_count": null,
      "outputs": [
        {
